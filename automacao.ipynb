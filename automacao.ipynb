{
 "cells": [
  {
   "cell_type": "markdown",
   "metadata": {},
   "source": [
    "- Passo 1: Abrir Sistema da Empresa\n",
    "- Passo 2: Login do sistema (https://dlp.hashtagtreinamentos.com/python/intensivao/login)\n",
    "- Passo 3: Importar base de dados\n",
    "- Passo 4: Cadastrar um produto "
   ]
  },
  {
   "cell_type": "markdown",
   "metadata": {},
   "source": [
    "- comandos pyautogui\n",
    "    - pyautogui.click - Clicar\n",
    "    - pyautogui.press - pressionar uma tecla\n",
    "    - pyautogui.write - escrever\n",
    "    - pyautogui.hotkey - tecla dupla"
   ]
  },
  {
   "cell_type": "markdown",
   "metadata": {},
   "source": [
    "- Instalando pyautogui"
   ]
  },
  {
   "cell_type": "code",
   "execution_count": null,
   "metadata": {},
   "outputs": [],
   "source": [
    "pip install pyautogui"
   ]
  },
  {
   "cell_type": "markdown",
   "metadata": {},
   "source": [
    "- Importando Bibliotecas"
   ]
  },
  {
   "cell_type": "code",
   "execution_count": 18,
   "metadata": {},
   "outputs": [],
   "source": [
    "import pyautogui\n",
    "import time"
   ]
  },
  {
   "cell_type": "markdown",
   "metadata": {},
   "source": [
    "- Pause a aplicação por 0.5 segundos"
   ]
  },
  {
   "cell_type": "code",
   "execution_count": 15,
   "metadata": {},
   "outputs": [],
   "source": [
    "pyautogui.PAUSE = 0.5"
   ]
  },
  {
   "cell_type": "markdown",
   "metadata": {},
   "source": [
    "Passo 1 -  Abrir Sistema da Empresa"
   ]
  },
  {
   "cell_type": "code",
   "execution_count": 27,
   "metadata": {},
   "outputs": [],
   "source": [
    "link = 'https://dlp.hashtagtreinamentos.com/python/intensivao/login'\n",
    "pyautogui.press('win')\n",
    "pyautogui.typewrite('edge')\n",
    "pyautogui.press('enter')\n",
    "pyautogui.typewrite(link)\n",
    "pyautogui.press('enter')"
   ]
  },
  {
   "cell_type": "markdown",
   "metadata": {},
   "source": [
    "- Espera programada"
   ]
  },
  {
   "cell_type": "code",
   "execution_count": null,
   "metadata": {},
   "outputs": [],
   "source": [
    "time.sleep(3)"
   ]
  },
  {
   "cell_type": "markdown",
   "metadata": {},
   "source": [
    "- Descubra a Posição X e Y, para selecionar campos na página de internet"
   ]
  },
  {
   "cell_type": "code",
   "execution_count": 25,
   "metadata": {},
   "outputs": [
    {
     "name": "stdout",
     "output_type": "stream",
     "text": [
      "Point(x=966, y=525)\n"
     ]
    }
   ],
   "source": [
    "time.sleep(5)\n",
    "print(pyautogui.position())"
   ]
  },
  {
   "cell_type": "markdown",
   "metadata": {},
   "source": [
    "Passo 2 - Login do sistema (https://dlp.hashtagtreinamentos.com/python/intensivao/login)"
   ]
  },
  {
   "cell_type": "code",
   "execution_count": 29,
   "metadata": {},
   "outputs": [],
   "source": [
    "time.sleep(5)\n",
    "pyautogui.click(866, 363)\n",
    "pyautogui.typewrite('dev.rodrigopires@gmail.com')\n",
    "pyautogui.click(806, 465)\n",
    "pyautogui.typewrite('123456')\n",
    "pyautogui.click(966, 525)"
   ]
  },
  {
   "cell_type": "markdown",
   "metadata": {},
   "source": [
    "- Instalando Bibliotecas de dados"
   ]
  },
  {
   "cell_type": "code",
   "execution_count": null,
   "metadata": {},
   "outputs": [],
   "source": [
    "pip install pandas"
   ]
  },
  {
   "cell_type": "markdown",
   "metadata": {},
   "source": [
    "- Funcionalidades do Pandas"
   ]
  },
  {
   "cell_type": "code",
   "execution_count": null,
   "metadata": {},
   "outputs": [],
   "source": [
    "pip install openpyxl"
   ]
  },
  {
   "cell_type": "markdown",
   "metadata": {},
   "source": [
    "- Importando bibliotecas"
   ]
  },
  {
   "cell_type": "code",
   "execution_count": 40,
   "metadata": {},
   "outputs": [],
   "source": [
    "import pandas\n",
    "import openpyxl as xl"
   ]
  },
  {
   "cell_type": "markdown",
   "metadata": {},
   "source": [
    "Passo 3 - Importando Base de Dados"
   ]
  },
  {
   "cell_type": "code",
   "execution_count": null,
   "metadata": {},
   "outputs": [],
   "source": [
    "tabela = pandas.read_csv(\"produtos.csv\")\n",
    "\n",
    "print(tabela)"
   ]
  },
  {
   "cell_type": "code",
   "execution_count": null,
   "metadata": {},
   "outputs": [],
   "source": [
    "time.sleep(3)"
   ]
  },
  {
   "cell_type": "markdown",
   "metadata": {},
   "source": [
    "Passo 4 - Cadastrando Produtos"
   ]
  },
  {
   "cell_type": "code",
   "execution_count": null,
   "metadata": {},
   "outputs": [],
   "source": [
    "for linha in tabela.index:\n",
    "    pyautogui.click(757, 244)\n",
    "\n",
    "    # código\n",
    "    codigo = tabela.loc[linha, \"codigo\"]\n",
    "    pyautogui.typewrite(str(codigo))\n",
    "    pyautogui.press('tab')\n",
    "\n",
    "    # Marca\n",
    "    marca = tabela.loc[linha, \"marca\"]\n",
    "    pyautogui.typewrite(str(marca))\n",
    "    pyautogui.press('tab')\n",
    "\n",
    "    # Tipo\n",
    "    tipo = tabela.loc[linha, \"tipo\"]\n",
    "    pyautogui.typewrite(str(tipo))  \n",
    "    pyautogui.press(\"tab\")\n",
    "\n",
    "    # Categoria\n",
    "    categoria = tabela.loc[linha, \"categoria\"]\n",
    "    pyautogui.typewrite(str(categoria))\n",
    "    pyautogui.press(\"tab\")\n",
    "\n",
    "    # Preço Unitário\n",
    "    preco_unitario = tabela.loc[linha, \"preco_unitario\"]\n",
    "    pyautogui.typewrite(str(preco_unitario))\n",
    "    pyautogui.press(\"tab\")\n",
    "\n",
    "    # Custo\n",
    "    custo = tabela.loc[linha, \"custo\"]\n",
    "    pyautogui.typewrite(str(custo))\n",
    "    pyautogui.press(\"tab\")\n",
    "\n",
    "    # Obs\n",
    "    obs = str(tabela.loc[linha, \"obs\"])\n",
    "    if obs != \"nan\":\n",
    "        pyautogui.typewrite(obs)\n",
    "    pyautogui.press(\"tab\")\n",
    "\n",
    "    # Salvar\n",
    "    pyautogui.press(\"enter\")"
   ]
  }
 ],
 "metadata": {
  "kernelspec": {
   "display_name": "Python 3",
   "language": "python",
   "name": "python3"
  },
  "language_info": {
   "codemirror_mode": {
    "name": "ipython",
    "version": 3
   },
   "file_extension": ".py",
   "mimetype": "text/x-python",
   "name": "python",
   "nbconvert_exporter": "python",
   "pygments_lexer": "ipython3",
   "version": "3.12.8"
  }
 },
 "nbformat": 4,
 "nbformat_minor": 2
}
